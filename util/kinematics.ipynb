{
 "cells": [
  {
   "cell_type": "code",
   "execution_count": 14,
   "metadata": {},
   "outputs": [],
   "source": [
    "import math"
   ]
  },
  {
   "cell_type": "code",
   "execution_count": 42,
   "metadata": {},
   "outputs": [],
   "source": [
    "class Definitions:\n",
    "    \n",
    "    def __init__(self, v0, angle, time=None, \n",
    "                x0=0, y0=0, x=None, y=None, \n",
    "                v0x=None, v0y=None, vfx=None, vfy=None, \n",
    "                vf=None, acceleration=None):\n",
    "        # knowns\n",
    "        self.x0 = x0\n",
    "        self.y0 = y0\n",
    "        self.g = -9.8\n",
    "        # unknowns\n",
    "        if v0:\n",
    "            self.v0 = v0\n",
    "        if angle:\n",
    "            self.ang = angle\n",
    "        # optionals\n",
    "        if time:\n",
    "            self.t = time\n",
    "        if x:\n",
    "            self.x = x\n",
    "        if y:\n",
    "            self.y = y\n",
    "        if v0x:\n",
    "            self.v0x = v0x\n",
    "        if v0y:\n",
    "            self.v0y = v0y\n",
    "        if vfx:\n",
    "            self.vfx = vfx\n",
    "        if vfy:\n",
    "            self.vfy = vfy\n",
    "        if acceleration:\n",
    "            self.acc = acceleration\n",
    "\n",
    "    # TOOLBOX 1\n",
    "    def x_pos(self):\n",
    "        if not hasattr(self,'v0') or not hasattr(self,'ang') or not hasattr(self,'t'):\n",
    "            return 'sorry, not enough info given'\n",
    "        # x = v0*cos(theta)*time\n",
    "        return self.v0 * math.cos(self.ang) * self.t\n",
    "\n",
    "    # TOOLBOX 2\n",
    "    def x_vel(self):\n",
    "        if not hasattr(self,'v0') or not hasattr(self,'ang'):\n",
    "            return 'sorry, not enough info given'\n",
    "        # vx = v0*cos(theta)\n",
    "        return self.v0 * math.cos(self.ang)\n",
    "\n",
    "    # TOOLBOX 3\n",
    "    def y_pos(self):\n",
    "        if not hasattr(self,'t') or not hasattr(self,'v0') or not hasattr(self,'ang'):\n",
    "            return 'sorry, not enough info given'\n",
    "        # y = 1/2*g*t^2 + v0*sin(theta)*t + y0\n",
    "        return (0.5 * self.g * self.t**2) + (self.v0 *math.sin(self.ang) * self.t) + self.y0\n",
    "\n",
    "    # TOOLBOX 4\n",
    "    def y_vel(self):\n",
    "        if not hasattr(self,'v0') or not hasattr(self,'ang') or not hasattr(self,'t'):\n",
    "            return 'sorry, not enough info given'\n",
    "        # vy = v0*sin(theta) + g*t\n",
    "        return (self.v0 * math.sin(self.ang)) + (self.g * self.t)\n",
    "\n",
    "    # ORIGINAL 1\n",
    "    def xf_pos(self):\n",
    "        if not hasattr(self,'x0') or not hasattr(self,'v0x') or not hasattr(self,'t'):\n",
    "            return 'sorry, not enough info given'\n",
    "        # x = x0 + v0*t\n",
    "        return self.x0 + (self.v0x * self.t)\n",
    "\n",
    "    # ORIGINAL 2\n",
    "    def vf(self):\n",
    "        if not hasattr(self,'v0') or not hasattr(self,'acc') or not hasattr(self,'t'):\n",
    "            return 'sorry, not enough info given'\n",
    "        # vf = v0 + at\n",
    "        return self.v0 + (self.acc * self.t)\n",
    "\n",
    "    # ORIGINAL 3\n",
    "    def xf_pos_w_acc(self):\n",
    "        if not hasattr(self,'x0') or not hasattr(self,'v0') or not hasattr(self,'t') or not hasattr(self,'acc'):\n",
    "            return 'sorry, not enough info given'\n",
    "        # xf = x0 + v0*t + 1/2*a*t^2\n",
    "        return self.x0 + (self.v0 * self.t) + (0.5 * self.acc * self.t**2)\n",
    "\n",
    "    # ORIGINAL 4\n",
    "    def delta_x(self):\n",
    "        if not hasattr(self,'vf') or not hasattr(self,'v0') or not hasattr(self,'acc'):\n",
    "            return 'sorry, not enough info given'\n",
    "        # vf**2 = v0**2 + 2a(xf-x0)\n",
    "        return ((self.vf**2 - self.v0**2) / (2 * self.acc))\n",
    "\n",
    "    def find_time(self):\n",
    "        pass\n"
   ]
  },
  {
   "cell_type": "code",
   "execution_count": 43,
   "metadata": {},
   "outputs": [],
   "source": [
    "part1 = Definitions(v0=35, angle=30)"
   ]
  },
  {
   "cell_type": "code",
   "execution_count": 45,
   "metadata": {},
   "outputs": [
    {
     "output_type": "execute_result",
     "data": {
      "text/plain": "5.398800746065442"
     },
     "metadata": {},
     "execution_count": 45
    }
   ],
   "source": [
    "part1.x_vel()"
   ]
  }
 ],
 "metadata": {
  "language_info": {
   "codemirror_mode": {
    "name": "ipython",
    "version": 3
   },
   "file_extension": ".py",
   "mimetype": "text/x-python",
   "name": "python",
   "nbconvert_exporter": "python",
   "pygments_lexer": "ipython3",
   "version": 3
  },
  "orig_nbformat": 2,
  "kernelspec": {
   "name": "python_defaultSpec_1600546009513",
   "display_name": "Python 3.7.6 64-bit ('base': conda)"
  }
 },
 "nbformat": 4,
 "nbformat_minor": 2
}