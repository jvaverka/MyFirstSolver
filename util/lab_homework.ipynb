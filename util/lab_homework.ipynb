{
 "metadata": {
  "language_info": {
   "codemirror_mode": {
    "name": "ipython",
    "version": 3
   },
   "file_extension": ".py",
   "mimetype": "text/x-python",
   "name": "python",
   "nbconvert_exporter": "python",
   "pygments_lexer": "ipython3",
   "version": "3.7.6-final"
  },
  "orig_nbformat": 2,
  "kernelspec": {
   "name": "python3",
   "display_name": "Python 3"
  }
 },
 "nbformat": 4,
 "nbformat_minor": 2,
 "cells": [
  {
   "cell_type": "code",
   "execution_count": null,
   "metadata": {},
   "outputs": [],
   "source": [
    "import math"
   ]
  },
  {
   "source": [
    "A pendulum is released from rest when it is making an angle of 50 degrees with the vertical.  The length of the pendulum is `L = 10.0 m` and the mass of the bob attached at the end is `25.0 kg`.  Determine  \n",
    ">a) The tension in the rope the instant it's released  \n",
    ">b) The speed of the bob at the bottom  \n",
    ">c) The tension of the rope at the bottom"
   ],
   "cell_type": "markdown",
   "metadata": {}
  },
  {
   "cell_type": "code",
   "execution_count": 34,
   "metadata": {},
   "outputs": [
    {
     "output_type": "stream",
     "name": "stdout",
     "text": [
      "\nPart a) Ft = (mv^2) / l + mg*cos(theta)\n\tFt at release = 157.48296437320215 ~> 157\n\nPart b) v = sqrt( 2gh ), where h = l( 1 - cos(theta) )\n\tv at bottom = 8.367414684443355 ~> 8.37\n\nPart c) Ft = Fg + Fc, where Fg = mg & Fc = mv^2 / l\n\tFt at bottom = 420.03407125359576 ~> 420\n"
     ]
    }
   ],
   "source": [
    "m = 25.0\n",
    "g = 9.8\n",
    "angle = 50\n",
    "l = 10\n",
    "\n",
    "# gravitational force\n",
    "Fg = m*g\n",
    "# tension force at release\n",
    "Ft = m*g*math.cos(math.radians(angle))\n",
    "# restored force\n",
    "Fr = -m*g*math.sin(math.radians(angle))\n",
    "# velocity at bottom\n",
    "v = math.sqrt(2*g*l*(1-math.cos(math.radians(angle))))\n",
    "# centripetal force\n",
    "Fc = (m*v**2)/l\n",
    "# tension force at bottom\n",
    "\n",
    "# print(f'Fg = {Fg}')\n",
    "print('\\nPart a) Ft = (mv^2) / l + mg*cos(theta)')\n",
    "print(f'\\tFt at release = {Ft} ~> {round(Ft)}')\n",
    "# print(f'Fr = {Fr}')\n",
    "print('\\nPart b) v = sqrt( 2gh ), where h = l( 1 - cos(theta) )')\n",
    "print(f'\\tv at bottom = {v} ~> {round(v, 2)}')\n",
    "# print(f'Fc = {Fc}')\n",
    "print('\\nPart c) Ft = Fg + Fc, where Fg = mg & Fc = mv^2 / l')\n",
    "print(f'\\tFt at bottom = {Fg + Fc} ~> {round(Fg+Fc)}')"
   ]
  },
  {
   "source": [
    "A pendulum is released from rest when it is horizontal with the top _i.e, the bob is level with the top of the pendulum_.  The length of the pendulum is `L = 10.0 m` and the mass of the bob attached at the end is `25.0 kg`.  Determine  \n",
    ">a) The tension in the rope the instant it's released  \n",
    ">b) The speed of the bob at the bottom  \n",
    ">c) The tension of the rope at the bottom"
   ],
   "cell_type": "markdown",
   "metadata": {}
  },
  {
   "cell_type": "code",
   "execution_count": 35,
   "metadata": {},
   "outputs": [
    {
     "output_type": "stream",
     "name": "stdout",
     "text": [
      "\nPart a) Ft = (mv^2) / l + mg*cos(theta)\n\tFt at release = 1.5001923289555078e-14 ~> 0\n\nPart b) v = sqrt( 2gh ), where h = l( 1 - cos(theta) )\n\tv at bottom = 13.999999999999998 ~> 14.0\n\nPart c) Ft = Fg + Fc, where Fg = mg & Fc = mv^2 / l\n\tFt at bottom = 734.9999999999999 ~> 735\n"
     ]
    }
   ],
   "source": [
    "m = 25.0\n",
    "g = 9.8\n",
    "angle = 90\n",
    "l = 10\n",
    "\n",
    "# gravitational force\n",
    "Fg = m*g\n",
    "# tension force at release\n",
    "Ft = m*g*math.cos(math.radians(angle))\n",
    "# restored force\n",
    "Fr = -m*g*math.sin(math.radians(angle))\n",
    "# velocity at bottom\n",
    "v = math.sqrt(2*g*l*(1-math.cos(math.radians(angle))))\n",
    "# centripetal force\n",
    "Fc = (m*v**2)/l\n",
    "# tension force at bottom\n",
    "\n",
    "# print(f'Fg = {Fg}')\n",
    "print('\\nPart a) Ft = (mv^2) / l + mg*cos(theta)')\n",
    "print(f'\\tFt at release = {Ft} ~> {round(Ft)}')\n",
    "# print(f'Fr = {Fr}')\n",
    "print('\\nPart b) v = sqrt( 2gh ), where h = l( 1 - cos(theta) )')\n",
    "print(f'\\tv at bottom = {v} ~> {round(v, 2)}')\n",
    "# print(f'Fc = {Fc}')\n",
    "print('\\nPart c) Ft = Fg + Fc, where Fg = mg & Fc = mv^2 / l')\n",
    "print(f'\\tFt at bottom = {Fg + Fc} ~> {round(Fg+Fc)}')"
   ]
  }
 ]
}